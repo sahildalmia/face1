{
  "nbformat": 4,
  "nbformat_minor": 0,
  "metadata": {
    "colab": {
      "provenance": [],
      "authorship_tag": "ABX9TyNAn7r4wvNKUrwsQS9Omg5N",
      "include_colab_link": true
    },
    "kernelspec": {
      "name": "python3",
      "display_name": "Python 3"
    },
    "language_info": {
      "name": "python"
    }
  },
  "cells": [
    {
      "cell_type": "markdown",
      "metadata": {
        "id": "view-in-github",
        "colab_type": "text"
      },
      "source": [
        "<a href=\"https://colab.research.google.com/github/sahildalmia/face1/blob/main/Project1.ipynb\" target=\"_parent\"><img src=\"https://colab.research.google.com/assets/colab-badge.svg\" alt=\"Open In Colab\"/></a>"
      ]
    },
    {
      "cell_type": "code",
      "execution_count": 12,
      "metadata": {
        "colab": {
          "base_uri": "https://localhost:8080/",
          "height": 1000
        },
        "id": "qxuWLRdxQa8Z",
        "outputId": "ac316f37-bd4e-4091-f16b-fff455b97b68"
      },
      "outputs": [
        {
          "output_type": "display_data",
          "data": {
            "text/plain": [
              "<Figure size 640x480 with 1 Axes>"
            ],
            "image/png": "[encoded data removed]"
          },
          "metadata": {}
        },
        {
          "output_type": "stream",
          "name": "stdout",
          "text": [
            "Model: \"sequential_7\"\n",
            "_________________________________________________________________\n",
            " Layer (type)                Output Shape              Param #   \n",
            "=================================================================\n",
            " conv2d_21 (Conv2D)          (None, 30, 30, 32)        896       \n",
            "                                                                 \n",
            " max_pooling2d_14 (MaxPooli  (None, 15, 15, 32)        0         \n",
            " ng2D)                                                           \n",
            "                                                                 \n",
            " conv2d_22 (Conv2D)          (None, 13, 13, 64)        18496     \n",
            "                                                                 \n",
            " max_pooling2d_15 (MaxPooli  (None, 6, 6, 64)          0         \n",
            " ng2D)                                                           \n",
            "                                                                 \n",
            " conv2d_23 (Conv2D)          (None, 4, 4, 64)          36928     \n",
            "                                                                 \n",
            " flatten_7 (Flatten)         (None, 1024)              0         \n",
            "                                                                 \n",
            " dense_14 (Dense)            (None, 64)                65600     \n",
            "                                                                 \n",
            " dense_15 (Dense)            (None, 10)                650       \n",
            "                                                                 \n",
            "=================================================================\n",
            "Total params: 122570 (478.79 KB)\n",
            "Trainable params: 122570 (478.79 KB)\n",
            "Non-trainable params: 0 (0.00 Byte)\n",
            "_________________________________________________________________\n",
            "Epoch 1/20\n",
            "391/391 [==============================] - 72s 179ms/step - loss: 1.6545 - accuracy: 0.3910 - val_loss: 1.4100 - val_accuracy: 0.4958\n",
            "Epoch 2/20\n",
            "391/391 [==============================] - 65s 165ms/step - loss: 1.2893 - accuracy: 0.5390 - val_loss: 1.2996 - val_accuracy: 0.5423\n",
            "Epoch 3/20\n",
            "391/391 [==============================] - 63s 161ms/step - loss: 1.1499 - accuracy: 0.5920 - val_loss: 1.1448 - val_accuracy: 0.5935\n",
            "Epoch 4/20\n",
            "391/391 [==============================] - 65s 166ms/step - loss: 1.0491 - accuracy: 0.6303 - val_loss: 1.0524 - val_accuracy: 0.6265\n",
            "Epoch 5/20\n",
            "391/391 [==============================] - 63s 162ms/step - loss: 0.9764 - accuracy: 0.6568 - val_loss: 1.0040 - val_accuracy: 0.6457\n",
            "Epoch 6/20\n",
            "391/391 [==============================] - 62s 159ms/step - loss: 0.9166 - accuracy: 0.6799 - val_loss: 0.9699 - val_accuracy: 0.6627\n",
            "Epoch 7/20\n",
            "391/391 [==============================] - 64s 165ms/step - loss: 0.8664 - accuracy: 0.6980 - val_loss: 0.9527 - val_accuracy: 0.6725\n",
            "Epoch 8/20\n",
            "391/391 [==============================] - 62s 159ms/step - loss: 0.8251 - accuracy: 0.7118 - val_loss: 0.9382 - val_accuracy: 0.6791\n",
            "Epoch 9/20\n",
            "391/391 [==============================] - 65s 166ms/step - loss: 0.7875 - accuracy: 0.7253 - val_loss: 0.9056 - val_accuracy: 0.6909\n",
            "Epoch 10/20\n",
            "391/391 [==============================] - 63s 161ms/step - loss: 0.7570 - accuracy: 0.7349 - val_loss: 0.8877 - val_accuracy: 0.6961\n",
            "Epoch 11/20\n",
            "391/391 [==============================] - 64s 163ms/step - loss: 0.7249 - accuracy: 0.7469 - val_loss: 0.8790 - val_accuracy: 0.7010\n",
            "Epoch 12/20\n",
            "391/391 [==============================] - 62s 160ms/step - loss: 0.6966 - accuracy: 0.7584 - val_loss: 0.8736 - val_accuracy: 0.6982\n",
            "Epoch 13/20\n",
            "391/391 [==============================] - 63s 162ms/step - loss: 0.6707 - accuracy: 0.7673 - val_loss: 0.8725 - val_accuracy: 0.7007\n",
            "Epoch 14/20\n",
            "391/391 [==============================] - 61s 157ms/step - loss: 0.6467 - accuracy: 0.7748 - val_loss: 0.8750 - val_accuracy: 0.7027\n",
            "Epoch 15/20\n",
            "391/391 [==============================] - 64s 164ms/step - loss: 0.6270 - accuracy: 0.7804 - val_loss: 0.8780 - val_accuracy: 0.7045\n",
            "Epoch 16/20\n",
            "391/391 [==============================] - 62s 158ms/step - loss: 0.6094 - accuracy: 0.7871 - val_loss: 0.8760 - val_accuracy: 0.7103\n",
            "Epoch 17/20\n",
            "391/391 [==============================] - 62s 159ms/step - loss: 0.5908 - accuracy: 0.7929 - val_loss: 0.8876 - val_accuracy: 0.7131\n",
            "Epoch 18/20\n",
            "391/391 [==============================] - 62s 158ms/step - loss: 0.5723 - accuracy: 0.8007 - val_loss: 0.8965 - val_accuracy: 0.7108\n",
            "Epoch 19/20\n",
            "391/391 [==============================] - 61s 155ms/step - loss: 0.5647 - accuracy: 0.8026 - val_loss: 0.9061 - val_accuracy: 0.7134\n",
            "Epoch 20/20\n",
            "391/391 [==============================] - 64s 164ms/step - loss: 0.5480 - accuracy: 0.8078 - val_loss: 0.9319 - val_accuracy: 0.7134\n",
            "79/79 [==============================] - 5s 58ms/step - loss: 0.9319 - accuracy: 0.7134\n",
            "Test loss: 0.9319028258323669\n",
            "Test accuracy: 0.7134000062942505\n",
            "1/1 [==============================] - 0s 87ms/step\n"
          ]
        },
        {
          "output_type": "execute_result",
          "data": {
            "text/plain": [
              "array([6])"
            ]
          },
          "metadata": {},
          "execution_count": 12
        }
      ],
      "source": [
        "import tensorflow as tf\n",
        "import numpy as np\n",
        "import tensorflow_datasets as tfds\n",
        "import matplotlib.pyplot as plt\n",
        "\n",
        "# Load data\n",
        "dataset_name = 'cifar10'\n",
        "(train_dataset, test_dataset), dataset_info = tfds.load(name=dataset_name,\n",
        "\t\t\t\t\t\t\t\t\t\t\t\t\tsplit=['train', 'test'],\n",
        "\t\t\t\t\t\t\t\t\t\t\t\t\tshuffle_files=True,\n",
        "\t\t\t\t\t\t\t\t\t\t\t\t\twith_info=True,\n",
        "\t\t\t\t\t\t\t\t\t\t\t\t\tas_supervised=True)\n",
        "image, label = next(iter(train_dataset.take(1111)))\n",
        "\n",
        "plt.imshow(image)\n",
        "plt.title(label.numpy())\n",
        "plt.axis('off')\n",
        "plt.show()\n",
        "\n",
        "\n",
        "# Get the number of classes in the dataset\n",
        "num_classes = dataset_info.features['label'].num_classes\n",
        "num_classes\n",
        "\n",
        "# Preprocess the data\n",
        "def preprocess_data(image, label):\n",
        "\t# Convert image to float32 and normalize between 0 and 1\n",
        "\timage = tf.cast(image, tf.float32) / 255.0\n",
        "\treturn image, label\n",
        "\n",
        "# Apply preprocessing to the datasets\n",
        "train_dataset = train_dataset.map(preprocess_data)\n",
        "test_dataset = test_dataset.map(preprocess_data)\n",
        "# Step 3: Build the model\n",
        "input_dim = (32, 32, 3)\n",
        "\n",
        "model = tf.keras.models.Sequential([\n",
        "\ttf.keras.layers.Conv2D(32, (3, 3), activation='relu', input_shape=input_dim),\n",
        "\ttf.keras.layers.MaxPooling2D((2, 2)),\n",
        "\ttf.keras.layers.Conv2D(64, (3, 3), activation='relu'),\n",
        "\ttf.keras.layers.MaxPooling2D((2, 2)),\n",
        "\ttf.keras.layers.Conv2D(64, (3, 3), activation='relu'),\n",
        "\ttf.keras.layers.Flatten(),\n",
        "\ttf.keras.layers.Dense(64, activation='relu'),\n",
        "\ttf.keras.layers.Dense(num_classes, activation='softmax')\n",
        "])\n",
        "# Print the model summary\n",
        "model.summary()\n",
        "#Generate the model graph\n",
        "tf.keras.utils.plot_model(model, show_shapes=True)\n",
        "#Compile the model\n",
        "model.compile(optimizer='adam',\n",
        "\t\t\tloss=tf.keras.losses.SparseCategoricalCrossentropy(from_logits=True),\n",
        "\t\t\tmetrics=['accuracy'])\n",
        "batch_size = 128\n",
        "num_epochs = 20\n",
        "# To process the dataset in batches create the batches of batch_size\n",
        "train_dataset = train_dataset.batch(batch_size).prefetch(tf.data.AUTOTUNE)\n",
        "test_dataset = test_dataset.batch(batch_size)\n",
        "\n",
        "#Train the model\n",
        "model.fit(train_dataset, epochs=num_epochs, validation_data=test_dataset)\n",
        "\n",
        "# Step 7: Evaluate the model\n",
        "loss, accuracy = model.evaluate(test_dataset)\n",
        "print(\"Test loss:\", loss)\n",
        "print(\"Test accuracy:\", accuracy)\n",
        "# create a custom array of image size\n",
        "new_image = tf.constant(np.random.rand(32, 32, 3), dtype=tf.float64)\n",
        "# Extend the dimension 4D\n",
        "new_image = tf.expand_dims(new_image, axis=0)\n",
        "\n",
        "# Prediction\n",
        "predictions = model.predict(new_image)\n",
        "# predicted label\n",
        "pred_label = tf.argmax(predictions, axis =1)\n",
        "pred_label.numpy()\n",
        "\n",
        "\n",
        "\n"
      ]
    }
  ]
}